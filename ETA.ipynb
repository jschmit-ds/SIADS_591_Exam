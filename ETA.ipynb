{
 "cells": [
  {
   "cell_type": "code",
   "execution_count": 1,
   "metadata": {},
   "outputs": [],
   "source": [
    "import pandas as pd\n",
    "import numpy as np\n",
    "import random\n",
    "from sklearn import preprocessing\n",
    "from sklearn.cluster import KMeans\n",
    "import matplotlib.pyplot as plt\n",
    "from kneed import KneeLocator\n",
    "from matplotlib import cm\n",
    "from mpl_toolkits.mplot3d import Axes3D"
   ]
  },
  {
   "cell_type": "code",
   "execution_count": null,
   "metadata": {},
   "outputs": [],
   "source": []
  },
  {
   "cell_type": "code",
   "execution_count": 44,
   "metadata": {},
   "outputs": [
    {
     "data": {
      "text/html": [
       "<div>\n",
       "<style scoped>\n",
       "    .dataframe tbody tr th:only-of-type {\n",
       "        vertical-align: middle;\n",
       "    }\n",
       "\n",
       "    .dataframe tbody tr th {\n",
       "        vertical-align: top;\n",
       "    }\n",
       "\n",
       "    .dataframe thead th {\n",
       "        text-align: right;\n",
       "    }\n",
       "</style>\n",
       "<table border=\"1\" class=\"dataframe\">\n",
       "  <thead>\n",
       "    <tr style=\"text-align: right;\">\n",
       "      <th></th>\n",
       "      <th>patient_id</th>\n",
       "      <th>sex</th>\n",
       "      <th>age</th>\n",
       "      <th>country</th>\n",
       "      <th>province</th>\n",
       "      <th>city</th>\n",
       "      <th>infection_case</th>\n",
       "      <th>infected_by</th>\n",
       "      <th>contact_number</th>\n",
       "      <th>symptom_onset_date</th>\n",
       "      <th>confirmed_date</th>\n",
       "      <th>released_date</th>\n",
       "      <th>deceased_date</th>\n",
       "      <th>state</th>\n",
       "      <th>month</th>\n",
       "      <th>day</th>\n",
       "      <th>age_median</th>\n",
       "    </tr>\n",
       "  </thead>\n",
       "  <tbody>\n",
       "    <tr>\n",
       "      <td>0</td>\n",
       "      <td>1000000001</td>\n",
       "      <td>male</td>\n",
       "      <td>50s</td>\n",
       "      <td>Korea</td>\n",
       "      <td>Seoul</td>\n",
       "      <td>Gangseo-gu</td>\n",
       "      <td>overseas inflow</td>\n",
       "      <td>nan</td>\n",
       "      <td>75.0</td>\n",
       "      <td>2020-01-22</td>\n",
       "      <td>2020-01-23</td>\n",
       "      <td>2020-02-05</td>\n",
       "      <td>NaN</td>\n",
       "      <td>released</td>\n",
       "      <td>1.0</td>\n",
       "      <td>23.0</td>\n",
       "      <td>55</td>\n",
       "    </tr>\n",
       "    <tr>\n",
       "      <td>1</td>\n",
       "      <td>1000000002</td>\n",
       "      <td>male</td>\n",
       "      <td>30s</td>\n",
       "      <td>Korea</td>\n",
       "      <td>Seoul</td>\n",
       "      <td>Jungnang-gu</td>\n",
       "      <td>overseas inflow</td>\n",
       "      <td>nan</td>\n",
       "      <td>31.0</td>\n",
       "      <td>NaT</td>\n",
       "      <td>2020-01-30</td>\n",
       "      <td>2020-03-02</td>\n",
       "      <td>NaN</td>\n",
       "      <td>released</td>\n",
       "      <td>1.0</td>\n",
       "      <td>30.0</td>\n",
       "      <td>35</td>\n",
       "    </tr>\n",
       "    <tr>\n",
       "      <td>2</td>\n",
       "      <td>1000000003</td>\n",
       "      <td>male</td>\n",
       "      <td>50s</td>\n",
       "      <td>Korea</td>\n",
       "      <td>Seoul</td>\n",
       "      <td>Jongno-gu</td>\n",
       "      <td>contact with patient</td>\n",
       "      <td>2002000001</td>\n",
       "      <td>17.0</td>\n",
       "      <td>NaT</td>\n",
       "      <td>2020-01-30</td>\n",
       "      <td>2020-02-19</td>\n",
       "      <td>NaN</td>\n",
       "      <td>released</td>\n",
       "      <td>1.0</td>\n",
       "      <td>30.0</td>\n",
       "      <td>55</td>\n",
       "    </tr>\n",
       "    <tr>\n",
       "      <td>3</td>\n",
       "      <td>1000000004</td>\n",
       "      <td>male</td>\n",
       "      <td>20s</td>\n",
       "      <td>Korea</td>\n",
       "      <td>Seoul</td>\n",
       "      <td>Mapo-gu</td>\n",
       "      <td>overseas inflow</td>\n",
       "      <td>nan</td>\n",
       "      <td>9.0</td>\n",
       "      <td>2020-01-26</td>\n",
       "      <td>2020-01-30</td>\n",
       "      <td>2020-02-15</td>\n",
       "      <td>NaN</td>\n",
       "      <td>released</td>\n",
       "      <td>1.0</td>\n",
       "      <td>30.0</td>\n",
       "      <td>25</td>\n",
       "    </tr>\n",
       "    <tr>\n",
       "      <td>4</td>\n",
       "      <td>1000000005</td>\n",
       "      <td>female</td>\n",
       "      <td>20s</td>\n",
       "      <td>Korea</td>\n",
       "      <td>Seoul</td>\n",
       "      <td>Seongbuk-gu</td>\n",
       "      <td>contact with patient</td>\n",
       "      <td>1000000002</td>\n",
       "      <td>2.0</td>\n",
       "      <td>NaT</td>\n",
       "      <td>2020-01-31</td>\n",
       "      <td>2020-02-24</td>\n",
       "      <td>NaN</td>\n",
       "      <td>released</td>\n",
       "      <td>1.0</td>\n",
       "      <td>31.0</td>\n",
       "      <td>25</td>\n",
       "    </tr>\n",
       "  </tbody>\n",
       "</table>\n",
       "</div>"
      ],
      "text/plain": [
       "   patient_id     sex  age country province         city  \\\n",
       "0  1000000001    male  50s   Korea    Seoul   Gangseo-gu   \n",
       "1  1000000002    male  30s   Korea    Seoul  Jungnang-gu   \n",
       "2  1000000003    male  50s   Korea    Seoul    Jongno-gu   \n",
       "3  1000000004    male  20s   Korea    Seoul      Mapo-gu   \n",
       "4  1000000005  female  20s   Korea    Seoul  Seongbuk-gu   \n",
       "\n",
       "         infection_case infected_by  contact_number symptom_onset_date  \\\n",
       "0       overseas inflow         nan            75.0         2020-01-22   \n",
       "1       overseas inflow         nan            31.0                NaT   \n",
       "2  contact with patient  2002000001            17.0                NaT   \n",
       "3       overseas inflow         nan             9.0         2020-01-26   \n",
       "4  contact with patient  1000000002             2.0                NaT   \n",
       "\n",
       "  confirmed_date released_date deceased_date     state  month   day  \\\n",
       "0     2020-01-23    2020-02-05           NaN  released    1.0  23.0   \n",
       "1     2020-01-30    2020-03-02           NaN  released    1.0  30.0   \n",
       "2     2020-01-30    2020-02-19           NaN  released    1.0  30.0   \n",
       "3     2020-01-30    2020-02-15           NaN  released    1.0  30.0   \n",
       "4     2020-01-31    2020-02-24           NaN  released    1.0  31.0   \n",
       "\n",
       "   age_median  \n",
       "0          55  \n",
       "1          35  \n",
       "2          55  \n",
       "3          25  \n",
       "4          25  "
      ]
     },
     "execution_count": 44,
     "metadata": {},
     "output_type": "execute_result"
    }
   ],
   "source": [
    "def load_data(data_path):\n",
    "    df = pd.read_csv('data/PatientInfo.csv')\n",
    "    df['released_date'] = pd.to_datetime(df['released_date'])\n",
    "    df['confirmed_date'] = pd.to_datetime(df['confirmed_date'], errors='coerce')\n",
    "    df['symptom_onset_date'] = pd.to_datetime(df['symptom_onset_date'], errors='coerce')\n",
    "    df['month'] = df['confirmed_date'].dt.month\n",
    "    df['day'] = df['confirmed_date'].dt.day\n",
    "    df['age_median'] = pd.to_numeric(df['age'].str.extract('(\\d+)', expand=False))\n",
    "    df['age_median'] = df['age_median'].astype('Int64') + 5\n",
    "    df['contact_number'] = pd.to_numeric(df['contact_number'].str.extract('(\\d+)', expand=False))\n",
    "    df['contact_number'] = pd.to_numeric(df['contact_number'])\n",
    "    df['patient_id'] = df['patient_id'].astype(str)\n",
    "    df['infected_by'] = df['infected_by'].astype(str)\n",
    "    return df\n",
    "df_south_korea = load_data('')\n",
    "df_south_korea.isnull().sum()\n",
    "df_south_korea.head(5)\n"
   ]
  },
  {
   "cell_type": "code",
   "execution_count": 27,
   "metadata": {},
   "outputs": [
    {
     "data": {
      "text/plain": [
       "patient_id                     int64\n",
       "sex                           object\n",
       "age                           object\n",
       "country                       object\n",
       "province                      object\n",
       "city                          object\n",
       "infection_case                object\n",
       "infected_by                   object\n",
       "contact_number                object\n",
       "symptom_onset_date    datetime64[ns]\n",
       "confirmed_date        datetime64[ns]\n",
       "released_date         datetime64[ns]\n",
       "deceased_date                 object\n",
       "state                         object\n",
       "month                        float64\n",
       "day                          float64\n",
       "age_median                     Int64\n",
       "dtype: object"
      ]
     },
     "execution_count": 27,
     "metadata": {},
     "output_type": "execute_result"
    }
   ],
   "source": [
    "df_south_korea.dtypes"
   ]
  },
  {
   "cell_type": "code",
   "execution_count": null,
   "metadata": {},
   "outputs": [],
   "source": []
  },
  {
   "cell_type": "code",
   "execution_count": 4,
   "metadata": {},
   "outputs": [],
   "source": [
    "def simulate_age(ranges, percents, total_pop):\n",
    "    simulated_pop = np.array(0)\n",
    "    for (low, high), percent in zip(ranges, percents):\n",
    "        simulated_pop = np.append(simulated_pop, \n",
    "                  np.random.randint(low=low, high=high, size=int(total_pop*percent/100)))\n",
    "    return simulated_pop"
   ]
  },
  {
   "cell_type": "code",
   "execution_count": 5,
   "metadata": {},
   "outputs": [
    {
     "data": {
      "image/png": "[encoded data removed]",
      "text/plain": [
       "<Figure size 1080x360 with 1 Axes>"
      ]
     },
     "metadata": {
      "needs_background": "light"
     },
     "output_type": "display_data"
    }
   ],
   "source": [
    "ranges = [(0,14),(15,24),(25,54),(55,64),(65,90)]\n",
    "percents = [18.48,11.8,37.48,12.42,19.82]\n",
    "south_korea_population = 51418097\n",
    "'''\n",
    "0-14 years: 13.03% \n",
    "15-24 years: 12.19%\n",
    "25-54 years: 45.13%\n",
    "55-64 years: 15.09% \n",
    "65 years and over: 14.55% \n",
    "'''\n",
    "percents = [13.03,12.19,45.13,15.09,14.55]\n",
    "south_korea_simulated_pop = simulate_age(ranges, percents, south_korea_population)\n",
    "f, (ax1) = plt.subplots(1, figsize=(15,5))\n",
    "ranges = [(0,14),(15,24),(25,54),(55,64),(65,90)]\n",
    "percents = [18.48,11.8,37.48,12.42,19.82]\n",
    "ax1.hist(south_korea_simulated_pop,bins=20, color='mediumaquamarine', edgecolor='k', alpha=0.5)\n",
    "ax1.set_title('South Korea - Simulated age distribution')\n",
    "plt.show()"
   ]
  },
  {
   "cell_type": "code",
   "execution_count": 42,
   "metadata": {},
   "outputs": [
    {
     "data": {
      "image/png": "[encoded data removed]",
      "text/plain": [
       "<Figure size 504x504 with 2 Axes>"
      ]
     },
     "metadata": {},
     "output_type": "display_data"
    }
   ],
   "source": [
    "import pandas as pd\n",
    "from matplotlib import pyplot as plt\n",
    "from pylab import rcParams\n",
    "rcParams['figure.figsize'] = 7,7 \n",
    "import seaborn as sns\n",
    "import numpy as np\n",
    "sns.set(color_codes=True, font_scale=1.2)\n",
    "\n",
    "corr = df_south_korea[['patient_id', 'contact_number', 'age_median', 'month']].corr(method ='pearson')\n",
    "ax = sns.heatmap(\n",
    "    corr, \n",
    "    vmin=-1, vmax=1, center=0,\n",
    "    cmap=sns.diverging_palette(20, 220, n=200),\n",
    "    square=True\n",
    ")\n",
    "ax.set_xticklabels(\n",
    "    ax.get_xticklabels(),\n",
    "    rotation=45,\n",
    "    horizontalalignment='right'\n",
    ");"
   ]
  },
  {
   "cell_type": "code",
   "execution_count": null,
   "metadata": {},
   "outputs": [],
   "source": []
  },
  {
   "cell_type": "code",
   "execution_count": null,
   "metadata": {},
   "outputs": [],
   "source": []
  }
 ],
 "metadata": {
  "kernelspec": {
   "display_name": "Python 3",
   "language": "python",
   "name": "python3"
  },
  "language_info": {
   "codemirror_mode": {
    "name": "ipython",
    "version": 3
   },
   "file_extension": ".py",
   "mimetype": "text/x-python",
   "name": "python",
   "nbconvert_exporter": "python",
   "pygments_lexer": "ipython3",
   "version": "3.7.4"
  }
 },
 "nbformat": 4,
 "nbformat_minor": 4
}
