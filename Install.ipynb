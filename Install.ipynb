{
 "cells": [
  {
   "cell_type": "code",
   "execution_count": 1,
   "metadata": {},
   "outputs": [
    {
     "name": "stdout",
     "output_type": "stream",
     "text": [
      "Requirement already satisfied: kneed in /Users/josephschmit/opt/anaconda3/lib/python3.7/site-packages (0.7.0)\n",
      "Requirement already satisfied: matplotlib in /Users/josephschmit/opt/anaconda3/lib/python3.7/site-packages (from kneed) (3.1.1)\n",
      "Requirement already satisfied: numpy>=1.14.2 in /Users/josephschmit/opt/anaconda3/lib/python3.7/site-packages (from kneed) (1.17.2)\n",
      "Requirement already satisfied: scipy in /Users/josephschmit/opt/anaconda3/lib/python3.7/site-packages (from kneed) (1.3.1)\n",
      "Requirement already satisfied: cycler>=0.10 in /Users/josephschmit/opt/anaconda3/lib/python3.7/site-packages (from matplotlib->kneed) (0.10.0)\n",
      "Requirement already satisfied: kiwisolver>=1.0.1 in /Users/josephschmit/opt/anaconda3/lib/python3.7/site-packages (from matplotlib->kneed) (1.1.0)\n",
      "Requirement already satisfied: pyparsing!=2.0.4,!=2.1.2,!=2.1.6,>=2.0.1 in /Users/josephschmit/opt/anaconda3/lib/python3.7/site-packages (from matplotlib->kneed) (2.4.2)\n",
      "Requirement already satisfied: python-dateutil>=2.1 in /Users/josephschmit/opt/anaconda3/lib/python3.7/site-packages (from matplotlib->kneed) (2.8.0)\n",
      "Requirement already satisfied: six in /Users/josephschmit/opt/anaconda3/lib/python3.7/site-packages (from cycler>=0.10->matplotlib->kneed) (1.12.0)\n",
      "Requirement already satisfied: setuptools in /Users/josephschmit/opt/anaconda3/lib/python3.7/site-packages (from kiwisolver>=1.0.1->matplotlib->kneed) (41.4.0)\n",
      "Note: you may need to restart the kernel to use updated packages.\n"
     ]
    }
   ],
   "source": [
    "pip install kneed"
   ]
  },
  {
   "cell_type": "code",
   "execution_count": 2,
   "metadata": {},
   "outputs": [
    {
     "name": "stdout",
     "output_type": "stream",
     "text": [
      "Collecting plotly_express\n",
      "  Downloading https://files.pythonhosted.org/packages/d4/d6/8a2906f51e073a4be80cab35cfa10e7a34853e60f3ed5304ac470852a08d/plotly_express-0.4.1-py2.py3-none-any.whl\n",
      "Requirement already satisfied: pandas>=0.20.0 in /Users/josephschmit/opt/anaconda3/lib/python3.7/site-packages (from plotly_express) (0.25.1)\n",
      "Requirement already satisfied: plotly>=4.1.0 in /Users/josephschmit/opt/anaconda3/lib/python3.7/site-packages (from plotly_express) (4.2.1)\n",
      "Requirement already satisfied: scipy>=0.18 in /Users/josephschmit/opt/anaconda3/lib/python3.7/site-packages (from plotly_express) (1.3.1)\n",
      "Requirement already satisfied: statsmodels>=0.9.0 in /Users/josephschmit/opt/anaconda3/lib/python3.7/site-packages (from plotly_express) (0.10.1)\n",
      "Requirement already satisfied: numpy>=1.11 in /Users/josephschmit/opt/anaconda3/lib/python3.7/site-packages (from plotly_express) (1.17.2)\n",
      "Requirement already satisfied: patsy>=0.5 in /Users/josephschmit/opt/anaconda3/lib/python3.7/site-packages (from plotly_express) (0.5.1)\n",
      "Requirement already satisfied: pytz>=2017.2 in /Users/josephschmit/opt/anaconda3/lib/python3.7/site-packages (from pandas>=0.20.0->plotly_express) (2019.3)\n",
      "Requirement already satisfied: python-dateutil>=2.6.1 in /Users/josephschmit/opt/anaconda3/lib/python3.7/site-packages (from pandas>=0.20.0->plotly_express) (2.8.0)\n",
      "Requirement already satisfied: six in /Users/josephschmit/opt/anaconda3/lib/python3.7/site-packages (from plotly>=4.1.0->plotly_express) (1.12.0)\n",
      "Requirement already satisfied: retrying>=1.3.3 in /Users/josephschmit/opt/anaconda3/lib/python3.7/site-packages (from plotly>=4.1.0->plotly_express) (1.3.3)\n",
      "Installing collected packages: plotly-express\n",
      "Successfully installed plotly-express-0.4.1\n",
      "Note: you may need to restart the kernel to use updated packages.\n"
     ]
    }
   ],
   "source": [
    "pip install plotly_express"
   ]
  },
  {
   "cell_type": "code",
   "execution_count": 3,
   "metadata": {},
   "outputs": [
    {
     "name": "stdout",
     "output_type": "stream",
     "text": [
      "Requirement already satisfied: jupyterlab in /Users/josephschmit/opt/anaconda3/lib/python3.7/site-packages (1.1.4)\n",
      "Collecting ipywidgets==7.5\n",
      "\u001b[?25l  Downloading https://files.pythonhosted.org/packages/86/c2/20a3514f87fc063b4853673966e85c091843de659374d6e1dd046319815a/ipywidgets-7.5.0-py2.py3-none-any.whl (121kB)\n",
      "\u001b[K     |████████████████████████████████| 122kB 1.1MB/s eta 0:00:01\n",
      "\u001b[?25hRequirement already satisfied: notebook>=4.3.1 in /Users/josephschmit/opt/anaconda3/lib/python3.7/site-packages (from jupyterlab) (6.0.1)\n",
      "Requirement already satisfied: tornado!=6.0.0,!=6.0.1,!=6.0.2 in /Users/josephschmit/opt/anaconda3/lib/python3.7/site-packages (from jupyterlab) (6.0.3)\n",
      "Requirement already satisfied: jupyterlab_server~=1.0.0 in /Users/josephschmit/opt/anaconda3/lib/python3.7/site-packages (from jupyterlab) (1.0.6)\n",
      "Requirement already satisfied: jinja2>=2.10 in /Users/josephschmit/opt/anaconda3/lib/python3.7/site-packages (from jupyterlab) (2.10.3)\n",
      "Requirement already satisfied: traitlets>=4.3.1 in /Users/josephschmit/opt/anaconda3/lib/python3.7/site-packages (from ipywidgets==7.5) (4.3.3)\n",
      "Requirement already satisfied: ipython>=4.0.0; python_version >= \"3.3\" in /Users/josephschmit/opt/anaconda3/lib/python3.7/site-packages (from ipywidgets==7.5) (7.8.0)\n",
      "Requirement already satisfied: widgetsnbextension~=3.5.0 in /Users/josephschmit/opt/anaconda3/lib/python3.7/site-packages (from ipywidgets==7.5) (3.5.1)\n",
      "Requirement already satisfied: nbformat>=4.2.0 in /Users/josephschmit/opt/anaconda3/lib/python3.7/site-packages (from ipywidgets==7.5) (4.4.0)\n",
      "Requirement already satisfied: ipykernel>=4.5.1 in /Users/josephschmit/opt/anaconda3/lib/python3.7/site-packages (from ipywidgets==7.5) (5.1.2)\n",
      "Requirement already satisfied: pyzmq>=17 in /Users/josephschmit/opt/anaconda3/lib/python3.7/site-packages (from notebook>=4.3.1->jupyterlab) (18.1.0)\n",
      "Requirement already satisfied: Send2Trash in /Users/josephschmit/opt/anaconda3/lib/python3.7/site-packages (from notebook>=4.3.1->jupyterlab) (1.5.0)\n",
      "Requirement already satisfied: ipython-genutils in /Users/josephschmit/opt/anaconda3/lib/python3.7/site-packages (from notebook>=4.3.1->jupyterlab) (0.2.0)\n",
      "Requirement already satisfied: terminado>=0.8.1 in /Users/josephschmit/opt/anaconda3/lib/python3.7/site-packages (from notebook>=4.3.1->jupyterlab) (0.8.2)\n",
      "Requirement already satisfied: nbconvert in /Users/josephschmit/opt/anaconda3/lib/python3.7/site-packages (from notebook>=4.3.1->jupyterlab) (5.6.0)\n",
      "Requirement already satisfied: jupyter-client>=5.3.1 in /Users/josephschmit/opt/anaconda3/lib/python3.7/site-packages (from notebook>=4.3.1->jupyterlab) (5.3.3)\n",
      "Requirement already satisfied: prometheus-client in /Users/josephschmit/opt/anaconda3/lib/python3.7/site-packages (from notebook>=4.3.1->jupyterlab) (0.7.1)\n",
      "Requirement already satisfied: jupyter-core>=4.4.0 in /Users/josephschmit/opt/anaconda3/lib/python3.7/site-packages (from notebook>=4.3.1->jupyterlab) (4.5.0)\n",
      "Requirement already satisfied: json5 in /Users/josephschmit/opt/anaconda3/lib/python3.7/site-packages (from jupyterlab_server~=1.0.0->jupyterlab) (0.8.5)\n",
      "Requirement already satisfied: jsonschema>=3.0.1 in /Users/josephschmit/opt/anaconda3/lib/python3.7/site-packages (from jupyterlab_server~=1.0.0->jupyterlab) (3.0.2)\n",
      "Requirement already satisfied: MarkupSafe>=0.23 in /Users/josephschmit/opt/anaconda3/lib/python3.7/site-packages (from jinja2>=2.10->jupyterlab) (1.1.1)\n",
      "Requirement already satisfied: decorator in /Users/josephschmit/opt/anaconda3/lib/python3.7/site-packages (from traitlets>=4.3.1->ipywidgets==7.5) (4.4.0)\n",
      "Requirement already satisfied: six in /Users/josephschmit/opt/anaconda3/lib/python3.7/site-packages (from traitlets>=4.3.1->ipywidgets==7.5) (1.12.0)\n",
      "Requirement already satisfied: prompt-toolkit<2.1.0,>=2.0.0 in /Users/josephschmit/opt/anaconda3/lib/python3.7/site-packages (from ipython>=4.0.0; python_version >= \"3.3\"->ipywidgets==7.5) (2.0.10)\n",
      "Requirement already satisfied: pickleshare in /Users/josephschmit/opt/anaconda3/lib/python3.7/site-packages (from ipython>=4.0.0; python_version >= \"3.3\"->ipywidgets==7.5) (0.7.5)\n",
      "Requirement already satisfied: backcall in /Users/josephschmit/opt/anaconda3/lib/python3.7/site-packages (from ipython>=4.0.0; python_version >= \"3.3\"->ipywidgets==7.5) (0.1.0)\n",
      "Requirement already satisfied: jedi>=0.10 in /Users/josephschmit/opt/anaconda3/lib/python3.7/site-packages (from ipython>=4.0.0; python_version >= \"3.3\"->ipywidgets==7.5) (0.15.1)\n",
      "Requirement already satisfied: setuptools>=18.5 in /Users/josephschmit/opt/anaconda3/lib/python3.7/site-packages (from ipython>=4.0.0; python_version >= \"3.3\"->ipywidgets==7.5) (41.4.0)\n",
      "Requirement already satisfied: appnope; sys_platform == \"darwin\" in /Users/josephschmit/opt/anaconda3/lib/python3.7/site-packages (from ipython>=4.0.0; python_version >= \"3.3\"->ipywidgets==7.5) (0.1.0)\n",
      "Requirement already satisfied: pexpect; sys_platform != \"win32\" in /Users/josephschmit/opt/anaconda3/lib/python3.7/site-packages (from ipython>=4.0.0; python_version >= \"3.3\"->ipywidgets==7.5) (4.7.0)\n",
      "Requirement already satisfied: pygments in /Users/josephschmit/opt/anaconda3/lib/python3.7/site-packages (from ipython>=4.0.0; python_version >= \"3.3\"->ipywidgets==7.5) (2.4.2)\n",
      "Requirement already satisfied: mistune<2,>=0.8.1 in /Users/josephschmit/opt/anaconda3/lib/python3.7/site-packages (from nbconvert->notebook>=4.3.1->jupyterlab) (0.8.4)\n",
      "Requirement already satisfied: bleach in /Users/josephschmit/opt/anaconda3/lib/python3.7/site-packages (from nbconvert->notebook>=4.3.1->jupyterlab) (3.1.0)\n",
      "Requirement already satisfied: pandocfilters>=1.4.1 in /Users/josephschmit/opt/anaconda3/lib/python3.7/site-packages (from nbconvert->notebook>=4.3.1->jupyterlab) (1.4.2)\n",
      "Requirement already satisfied: defusedxml in /Users/josephschmit/opt/anaconda3/lib/python3.7/site-packages (from nbconvert->notebook>=4.3.1->jupyterlab) (0.6.0)\n",
      "Requirement already satisfied: entrypoints>=0.2.2 in /Users/josephschmit/opt/anaconda3/lib/python3.7/site-packages (from nbconvert->notebook>=4.3.1->jupyterlab) (0.3)\n",
      "Requirement already satisfied: testpath in /Users/josephschmit/opt/anaconda3/lib/python3.7/site-packages (from nbconvert->notebook>=4.3.1->jupyterlab) (0.4.2)\n",
      "Requirement already satisfied: python-dateutil>=2.1 in /Users/josephschmit/opt/anaconda3/lib/python3.7/site-packages (from jupyter-client>=5.3.1->notebook>=4.3.1->jupyterlab) (2.8.0)\n",
      "Requirement already satisfied: attrs>=17.4.0 in /Users/josephschmit/opt/anaconda3/lib/python3.7/site-packages (from jsonschema>=3.0.1->jupyterlab_server~=1.0.0->jupyterlab) (19.2.0)\n",
      "Requirement already satisfied: pyrsistent>=0.14.0 in /Users/josephschmit/opt/anaconda3/lib/python3.7/site-packages (from jsonschema>=3.0.1->jupyterlab_server~=1.0.0->jupyterlab) (0.15.4)\n",
      "Requirement already satisfied: wcwidth in /Users/josephschmit/opt/anaconda3/lib/python3.7/site-packages (from prompt-toolkit<2.1.0,>=2.0.0->ipython>=4.0.0; python_version >= \"3.3\"->ipywidgets==7.5) (0.1.7)\n",
      "Requirement already satisfied: parso>=0.5.0 in /Users/josephschmit/opt/anaconda3/lib/python3.7/site-packages (from jedi>=0.10->ipython>=4.0.0; python_version >= \"3.3\"->ipywidgets==7.5) (0.5.1)\n",
      "Requirement already satisfied: ptyprocess>=0.5 in /Users/josephschmit/opt/anaconda3/lib/python3.7/site-packages (from pexpect; sys_platform != \"win32\"->ipython>=4.0.0; python_version >= \"3.3\"->ipywidgets==7.5) (0.6.0)\n",
      "Requirement already satisfied: webencodings in /Users/josephschmit/opt/anaconda3/lib/python3.7/site-packages (from bleach->nbconvert->notebook>=4.3.1->jupyterlab) (0.5.1)\n",
      "Installing collected packages: ipywidgets\n",
      "  Found existing installation: ipywidgets 7.5.1\n",
      "    Uninstalling ipywidgets-7.5.1:\n",
      "      Successfully uninstalled ipywidgets-7.5.1\n",
      "Successfully installed ipywidgets-7.5.0\n",
      "Note: you may need to restart the kernel to use updated packages.\n"
     ]
    }
   ],
   "source": [
    "pip install jupyterlab \"ipywidgets==7.5\""
   ]
  },
  {
   "cell_type": "code",
   "execution_count": 4,
   "metadata": {},
   "outputs": [
    {
     "name": "stdout",
     "output_type": "stream",
     "text": [
      "Collecting plotly-geo==1.0.0\n",
      "\u001b[?25l  Downloading https://files.pythonhosted.org/packages/be/c6/be7d476e8c14c318c7b80329317d5dd5d1b876c393c9f8c0363b0dd188b8/plotly_geo-1.0.0-py3-none-any.whl (23.7MB)\n",
      "\u001b[K     |████████████████████████████████| 23.7MB 3.2MB/s eta 0:00:01\n",
      "\u001b[?25hInstalling collected packages: plotly-geo\n",
      "Successfully installed plotly-geo-1.0.0\n",
      "Note: you may need to restart the kernel to use updated packages.\n"
     ]
    }
   ],
   "source": [
    "pip install plotly-geo==1.0.0"
   ]
  },
  {
   "cell_type": "code",
   "execution_count": 6,
   "metadata": {},
   "outputs": [
    {
     "ename": "SyntaxError",
     "evalue": "invalid syntax (<ipython-input-6-563ca57b1f5b>, line 1)",
     "output_type": "error",
     "traceback": [
      "\u001b[0;36m  File \u001b[0;32m\"<ipython-input-6-563ca57b1f5b>\"\u001b[0;36m, line \u001b[0;32m1\u001b[0m\n\u001b[0;31m    jupyter labextension install jupyterlab-plotly@4.9.0\u001b[0m\n\u001b[0m                       ^\u001b[0m\n\u001b[0;31mSyntaxError\u001b[0m\u001b[0;31m:\u001b[0m invalid syntax\n"
     ]
    }
   ],
   "source": [
    "jupyter labextension install jupyterlab-plotly@4.9.0"
   ]
  },
  {
   "cell_type": "code",
   "execution_count": null,
   "metadata": {},
   "outputs": [],
   "source": []
  }
 ],
 "metadata": {
  "kernelspec": {
   "display_name": "Python 3",
   "language": "python",
   "name": "python3"
  },
  "language_info": {
   "codemirror_mode": {
    "name": "ipython",
    "version": 3
   },
   "file_extension": ".py",
   "mimetype": "text/x-python",
   "name": "python",
   "nbconvert_exporter": "python",
   "pygments_lexer": "ipython3",
   "version": "3.7.4"
  }
 },
 "nbformat": 4,
 "nbformat_minor": 4
}
