{
 "cells": [
  {
   "cell_type": "code",
   "execution_count": 1,
   "metadata": {},
   "outputs": [
    {
     "name": "stdout",
     "output_type": "stream",
     "text": [
      "Collecting kneed\n",
      "  Downloading https://files.pythonhosted.org/packages/c3/6b/e130913aaaad1373060e259ab222ca2330672db696b297b082c3f3089fcc/kneed-0.7.0-py2.py3-none-any.whl\n",
      "Requirement already satisfied: matplotlib in /Users/josephschmit/opt/anaconda3/lib/python3.7/site-packages (from kneed) (3.1.1)\n",
      "Requirement already satisfied: numpy>=1.14.2 in /Users/josephschmit/opt/anaconda3/lib/python3.7/site-packages (from kneed) (1.17.2)\n",
      "Requirement already satisfied: scipy in /Users/josephschmit/opt/anaconda3/lib/python3.7/site-packages (from kneed) (1.3.1)\n",
      "Requirement already satisfied: cycler>=0.10 in /Users/josephschmit/opt/anaconda3/lib/python3.7/site-packages (from matplotlib->kneed) (0.10.0)\n",
      "Requirement already satisfied: kiwisolver>=1.0.1 in /Users/josephschmit/opt/anaconda3/lib/python3.7/site-packages (from matplotlib->kneed) (1.1.0)\n",
      "Requirement already satisfied: pyparsing!=2.0.4,!=2.1.2,!=2.1.6,>=2.0.1 in /Users/josephschmit/opt/anaconda3/lib/python3.7/site-packages (from matplotlib->kneed) (2.4.2)\n",
      "Requirement already satisfied: python-dateutil>=2.1 in /Users/josephschmit/opt/anaconda3/lib/python3.7/site-packages (from matplotlib->kneed) (2.8.0)\n",
      "Requirement already satisfied: six in /Users/josephschmit/opt/anaconda3/lib/python3.7/site-packages (from cycler>=0.10->matplotlib->kneed) (1.12.0)\n",
      "Requirement already satisfied: setuptools in /Users/josephschmit/opt/anaconda3/lib/python3.7/site-packages (from kiwisolver>=1.0.1->matplotlib->kneed) (41.4.0)\n",
      "Installing collected packages: kneed\n",
      "Successfully installed kneed-0.7.0\n",
      "Note: you may need to restart the kernel to use updated packages.\n"
     ]
    }
   ],
   "source": [
    "pip install kneed"
   ]
  },
  {
   "cell_type": "code",
   "execution_count": null,
   "metadata": {},
   "outputs": [],
   "source": []
  }
 ],
 "metadata": {
  "kernelspec": {
   "display_name": "Python 3",
   "language": "python",
   "name": "python3"
  },
  "language_info": {
   "codemirror_mode": {
    "name": "ipython",
    "version": 3
   },
   "file_extension": ".py",
   "mimetype": "text/x-python",
   "name": "python",
   "nbconvert_exporter": "python",
   "pygments_lexer": "ipython3",
   "version": "3.7.4"
  }
 },
 "nbformat": 4,
 "nbformat_minor": 4
}
